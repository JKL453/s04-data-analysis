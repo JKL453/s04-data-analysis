{
 "cells": [
  {
   "cell_type": "code",
   "execution_count": 1,
   "metadata": {},
   "outputs": [],
   "source": [
    "# auto-reload modules when they have changed\n",
    "%reload_ext autoreload\n",
    "%autoreload 2"
   ]
  },
  {
   "cell_type": "code",
   "execution_count": 2,
   "metadata": {},
   "outputs": [],
   "source": [
    "from s04utils.modules.load.BinnedTimestamps import BinnedTimestamps\n",
    "from s04utils.modules.visualize import plot, report\n",
    "import matplotlib.pyplot as plt\n",
    "import os\n",
    "import shutil\n",
    "import glob\n",
    "from ipyfilechooser import FileChooser\n",
    "import s04utils.config.config as cfg\n",
    "#from bokeh.plotting import figure, show, output_notebook, curdoc\n",
    "\n",
    "import ipywidgets as widgets"
   ]
  },
  {
   "cell_type": "code",
   "execution_count": 3,
   "metadata": {},
   "outputs": [
    {
     "data": {
      "text/html": [
       "<style>\n",
       ".cell-output-ipywidget-background {\n",
       "   background-color: transparent !important;\n",
       "}\n",
       ".jp-OutputArea-output {\n",
       "   background-color: transparent;\n",
       "};\n"
      ],
      "text/plain": [
       "<IPython.core.display.HTML object>"
      ]
     },
     "metadata": {},
     "output_type": "display_data"
    }
   ],
   "source": [
    "%%html\n",
    "<style>\n",
    ".cell-output-ipywidget-background {\n",
    "   background-color: transparent !important;\n",
    "}\n",
    ".jp-OutputArea-output {\n",
    "   background-color: transparent;\n",
    "};"
   ]
  },
  {
   "cell_type": "markdown",
   "metadata": {},
   "source": [
    "# Creating a report\n",
    "The report serves as a kind of preview of the measurement data in a folder. Thus it is not necessary to first load and evaluate all the data individually in order to obtain an overview.\n",
    "\n",
    "* Select a folder that contains .h5 (timestamps) and .img (scans) files via *Select* button.\n",
    "\n",
    "* ```report.sort_files(path)``` is used to sort the files into subfolders called '/timestamps' and '/images'. These subfolders are created automatically if they do not exist.\n",
    "\n",
    "* ```report.create(path)``` creates a subfolder called '/plots' that contains preview plots for all measurement files at '/path'. It also generates a pdf that contains all of the individual plots.\n"
   ]
  },
  {
   "cell_type": "code",
   "execution_count": 4,
   "metadata": {
    "tags": [
     "hide-input"
    ]
   },
   "outputs": [
    {
     "name": "stdout",
     "output_type": "stream",
     "text": [
      "Select a file to load\n"
     ]
    },
    {
     "data": {
      "application/vnd.jupyter.widget-view+json": {
       "model_id": "76b914896ba44d74b75ddd4dfbc13402",
       "version_major": 2,
       "version_minor": 0
      },
      "text/plain": [
       "FileChooser(path='/Users/kappel/Documents/Programming/python-projects/s04-data-analysis/notebooks', filename='…"
      ]
     },
     "metadata": {},
     "output_type": "display_data"
    }
   ],
   "source": [
    "fc = FileChooser()\n",
    "fc.show_only_dirs = True\n",
    "print(\"Select a file to load\")\n",
    "# Wait for the user to make a selection\n",
    "while fc.selected_path == '':\n",
    "    pass\n",
    "display(fc)"
   ]
  },
  {
   "cell_type": "code",
   "execution_count": 5,
   "metadata": {},
   "outputs": [],
   "source": [
    "selected_path = '/Users/kappel/Messungen/Setup04/JaKa/post_hack/23_11_01/77K-30nM-mWasabi-vitrified/05uW/'"
   ]
  },
  {
   "cell_type": "code",
   "execution_count": 6,
   "metadata": {},
   "outputs": [
    {
     "name": "stdout",
     "output_type": "stream",
     "text": [
      "Missing 'timestamps' and 'images' directories have been created\n",
      "Found 73 '.h5' files\n",
      "Found 73 '.img' files\n",
      "\n",
      "\n",
      "H5 files:\n",
      "tt_mWasabi_30nm_NaP_100mM_ph7dot5_Treh7dot5_05uW_77K_circpol_049.h5\n",
      "tt_mWasabi_30nm_NaP_100mM_ph7dot5_Treh7dot5_05uW_77K_circpol_018.h5\n",
      "tt_mWasabi_30nm_NaP_100mM_ph7dot5_Treh7dot5_05uW_77K_circpol_008.h5\n",
      "tt_mWasabi_30nm_NaP_100mM_ph7dot5_Treh7dot5_05uW_77K_circpol_059.h5\n",
      "tt_mWasabi_30nm_NaP_100mM_ph7dot5_Treh7dot5_05uW_77K_circpol_028.h5\n",
      "tt_mWasabi_30nm_NaP_100mM_ph7dot5_Treh7dot5_05uW_77K_circpol_038.h5\n",
      "tt_mWasabi_30nm_NaP_100mM_ph7dot5_Treh7dot5_05uW_77K_circpol_069.h5\n",
      "tt_mWasabi_30nm_NaP_100mM_ph7dot5_Treh7dot5_05uW_77K_circpol_029.h5\n",
      "tt_mWasabi_30nm_NaP_100mM_ph7dot5_Treh7dot5_05uW_77K_circpol_039.h5\n",
      "tt_mWasabi_30nm_NaP_100mM_ph7dot5_Treh7dot5_05uW_77K_circpol_068.h5\n",
      "tt_mWasabi_30nm_NaP_100mM_ph7dot5_Treh7dot5_05uW_77K_circpol_048.h5\n",
      "tt_mWasabi_30nm_NaP_100mM_ph7dot5_Treh7dot5_05uW_77K_circpol_019.h5\n",
      "tt_mWasabi_30nm_NaP_100mM_ph7dot5_Treh7dot5_05uW_77K_circpol_009.h5\n",
      "tt_mWasabi_30nm_NaP_100mM_ph7dot5_Treh7dot5_05uW_77K_circpol_058.h5\n",
      "tt_mWasabi_30nm_NaP_100mM_ph7dot5_Treh7dot5_05uW_77K_circpol_026.h5\n",
      "tt_mWasabi_30nm_NaP_100mM_ph7dot5_Treh7dot5_05uW_77K_circpol_043.h5\n",
      "tt_mWasabi_30nm_NaP_100mM_ph7dot5_Treh7dot5_05uW_77K_circpol_012.h5\n",
      "tt_mWasabi_30nm_NaP_100mM_ph7dot5_Treh7dot5_05uW_77K_circpol_002.h5\n",
      "tt_mWasabi_30nm_NaP_100mM_ph7dot5_Treh7dot5_05uW_77K_circpol_053.h5\n",
      "tt_mWasabi_30nm_NaP_100mM_ph7dot5_Treh7dot5_05uW_77K_circpol_067.h5\n",
      "tt_mWasabi_30nm_NaP_100mM_ph7dot5_Treh7dot5_05uW_77K_circpol_036.h5\n",
      "tt_mWasabi_30nm_NaP_100mM_ph7dot5_Treh7dot5_05uW_77K_circpol_016.h5\n",
      "tt_mWasabi_30nm_NaP_100mM_ph7dot5_Treh7dot5_05uW_77K_circpol_047.h5\n",
      "tt_mWasabi_30nm_NaP_100mM_ph7dot5_Treh7dot5_05uW_77K_circpol_073.h5\n",
      "tt_mWasabi_30nm_NaP_100mM_ph7dot5_Treh7dot5_05uW_77K_circpol_022.h5\n",
      "tt_mWasabi_30nm_NaP_100mM_ph7dot5_Treh7dot5_05uW_77K_circpol_032.h5\n",
      "tt_mWasabi_30nm_NaP_100mM_ph7dot5_Treh7dot5_05uW_77K_circpol_063.h5\n",
      "tt_mWasabi_30nm_NaP_100mM_ph7dot5_Treh7dot5_05uW_77K_circpol_057.h5\n",
      "tt_mWasabi_30nm_NaP_100mM_ph7dot5_Treh7dot5_05uW_77K_circpol_006.h5\n",
      "tt_mWasabi_30nm_NaP_100mM_ph7dot5_Treh7dot5_05uW_77K_circpol_017.h5\n",
      "tt_mWasabi_30nm_NaP_100mM_ph7dot5_Treh7dot5_05uW_77K_circpol_046.h5\n",
      "tt_mWasabi_30nm_NaP_100mM_ph7dot5_Treh7dot5_05uW_77K_circpol_072.h5\n",
      "tt_mWasabi_30nm_NaP_100mM_ph7dot5_Treh7dot5_05uW_77K_circpol_023.h5\n",
      "tt_mWasabi_30nm_NaP_100mM_ph7dot5_Treh7dot5_05uW_77K_circpol_033.h5\n",
      "tt_mWasabi_30nm_NaP_100mM_ph7dot5_Treh7dot5_05uW_77K_circpol_062.h5\n",
      "tt_mWasabi_30nm_NaP_100mM_ph7dot5_Treh7dot5_05uW_77K_circpol_056.h5\n",
      "tt_mWasabi_30nm_NaP_100mM_ph7dot5_Treh7dot5_05uW_77K_circpol_007.h5\n",
      "tt_mWasabi_30nm_NaP_100mM_ph7dot5_Treh7dot5_05uW_77K_circpol_027.h5\n",
      "tt_mWasabi_30nm_NaP_100mM_ph7dot5_Treh7dot5_05uW_77K_circpol_042.h5\n",
      "tt_mWasabi_30nm_NaP_100mM_ph7dot5_Treh7dot5_05uW_77K_circpol_013.h5\n",
      "tt_mWasabi_30nm_NaP_100mM_ph7dot5_Treh7dot5_05uW_77K_circpol_003.h5\n",
      "tt_mWasabi_30nm_NaP_100mM_ph7dot5_Treh7dot5_05uW_77K_circpol_052.h5\n",
      "tt_mWasabi_30nm_NaP_100mM_ph7dot5_Treh7dot5_05uW_77K_circpol_066.h5\n",
      "tt_mWasabi_30nm_NaP_100mM_ph7dot5_Treh7dot5_05uW_77K_circpol_037.h5\n",
      "tt_mWasabi_30nm_NaP_100mM_ph7dot5_Treh7dot5_05uW_77K_circpol_045.h5\n",
      "tt_mWasabi_30nm_NaP_100mM_ph7dot5_Treh7dot5_05uW_77K_circpol_014.h5\n",
      "tt_mWasabi_30nm_NaP_100mM_ph7dot5_Treh7dot5_05uW_77K_circpol_020.h5\n",
      "tt_mWasabi_30nm_NaP_100mM_ph7dot5_Treh7dot5_05uW_77K_circpol_071.h5\n",
      "tt_mWasabi_30nm_NaP_100mM_ph7dot5_Treh7dot5_05uW_77K_circpol_061.h5\n",
      "tt_mWasabi_30nm_NaP_100mM_ph7dot5_Treh7dot5_05uW_77K_circpol_030.h5\n",
      "tt_mWasabi_30nm_NaP_100mM_ph7dot5_Treh7dot5_05uW_77K_circpol_004.h5\n",
      "tt_mWasabi_30nm_NaP_100mM_ph7dot5_Treh7dot5_05uW_77K_circpol_055.h5\n",
      "tt_mWasabi_30nm_NaP_100mM_ph7dot5_Treh7dot5_05uW_77K_circpol_024.h5\n",
      "tt_mWasabi_30nm_NaP_100mM_ph7dot5_Treh7dot5_05uW_77K_circpol_010.h5\n",
      "tt_mWasabi_30nm_NaP_100mM_ph7dot5_Treh7dot5_05uW_77K_circpol_041.h5\n",
      "tt_mWasabi_30nm_NaP_100mM_ph7dot5_Treh7dot5_05uW_77K_circpol_051.h5\n",
      "tt_mWasabi_30nm_NaP_100mM_ph7dot5_Treh7dot5_05uW_77K_circpol_034.h5\n",
      "tt_mWasabi_30nm_NaP_100mM_ph7dot5_Treh7dot5_05uW_77K_circpol_065.h5\n",
      "tt_mWasabi_30nm_NaP_100mM_ph7dot5_Treh7dot5_05uW_77K_circpol_025.h5\n",
      "tt_mWasabi_30nm_NaP_100mM_ph7dot5_Treh7dot5_05uW_77K_circpol_011.h5\n",
      "tt_mWasabi_30nm_NaP_100mM_ph7dot5_Treh7dot5_05uW_77K_circpol_040.h5\n",
      "tt_mWasabi_30nm_NaP_100mM_ph7dot5_Treh7dot5_05uW_77K_circpol_050.h5\n",
      "tt_mWasabi_30nm_NaP_100mM_ph7dot5_Treh7dot5_05uW_77K_circpol_001.h5\n",
      "tt_mWasabi_30nm_NaP_100mM_ph7dot5_Treh7dot5_05uW_77K_circpol_035.h5\n",
      "tt_mWasabi_30nm_NaP_100mM_ph7dot5_Treh7dot5_05uW_77K_circpol_064.h5\n",
      "tt_mWasabi_30nm_NaP_100mM_ph7dot5_Treh7dot5_05uW_77K_circpol_044.h5\n",
      "tt_mWasabi_30nm_NaP_100mM_ph7dot5_Treh7dot5_05uW_77K_circpol_015.h5\n",
      "tt_mWasabi_30nm_NaP_100mM_ph7dot5_Treh7dot5_05uW_77K_circpol_021.h5\n",
      "tt_mWasabi_30nm_NaP_100mM_ph7dot5_Treh7dot5_05uW_77K_circpol_070.h5\n",
      "tt_mWasabi_30nm_NaP_100mM_ph7dot5_Treh7dot5_05uW_77K_circpol_060.h5\n",
      "tt_mWasabi_30nm_NaP_100mM_ph7dot5_Treh7dot5_05uW_77K_circpol_031.h5\n",
      "tt_mWasabi_30nm_NaP_100mM_ph7dot5_Treh7dot5_05uW_77K_circpol_005.h5\n",
      "tt_mWasabi_30nm_NaP_100mM_ph7dot5_Treh7dot5_05uW_77K_circpol_054.h5\n",
      "\n",
      "\n",
      "IMG files:\n",
      "img_mWasabi_30nm_NaP_100mM_ph7dot5_Treh7dot5_05uW_77K_circpol_066.img\n",
      "img_mWasabi_30nm_NaP_100mM_ph7dot5_Treh7dot5_05uW_77K_circpol_072.img\n",
      "img_mWasabi_30nm_NaP_100mM_ph7dot5_Treh7dot5_05uW_77K_circpol_073.img\n",
      "img_mWasabi_30nm_NaP_100mM_ph7dot5_Treh7dot5_05uW_77K_circpol_067.img\n",
      "img_mWasabi_30nm_NaP_100mM_ph7dot5_Treh7dot5_05uW_77K_circpol_059.img\n",
      "img_mWasabi_30nm_NaP_100mM_ph7dot5_Treh7dot5_05uW_77K_circpol_071.img\n",
      "img_mWasabi_30nm_NaP_100mM_ph7dot5_Treh7dot5_05uW_77K_circpol_065.img\n",
      "img_mWasabi_30nm_NaP_100mM_ph7dot5_Treh7dot5_05uW_77K_circpol_064.img\n",
      "img_mWasabi_30nm_NaP_100mM_ph7dot5_Treh7dot5_05uW_77K_circpol_070.img\n",
      "img_mWasabi_30nm_NaP_100mM_ph7dot5_Treh7dot5_05uW_77K_circpol_058.img\n",
      "img_mWasabi_30nm_NaP_100mM_ph7dot5_Treh7dot5_05uW_77K_circpol_060.img\n",
      "img_mWasabi_30nm_NaP_100mM_ph7dot5_Treh7dot5_05uW_77K_circpol_048.img\n",
      "img_mWasabi_30nm_NaP_100mM_ph7dot5_Treh7dot5_05uW_77K_circpol_049.img\n",
      "img_mWasabi_30nm_NaP_100mM_ph7dot5_Treh7dot5_05uW_77K_circpol_061.img\n",
      "img_mWasabi_30nm_NaP_100mM_ph7dot5_Treh7dot5_05uW_77K_circpol_063.img\n",
      "img_mWasabi_30nm_NaP_100mM_ph7dot5_Treh7dot5_05uW_77K_circpol_062.img\n",
      "img_mWasabi_30nm_NaP_100mM_ph7dot5_Treh7dot5_05uW_77K_circpol_039.img\n",
      "img_mWasabi_30nm_NaP_100mM_ph7dot5_Treh7dot5_05uW_77K_circpol_005.img\n",
      "img_mWasabi_30nm_NaP_100mM_ph7dot5_Treh7dot5_05uW_77K_circpol_011.img\n",
      "img_mWasabi_30nm_NaP_100mM_ph7dot5_Treh7dot5_05uW_77K_circpol_010.img\n",
      "img_mWasabi_30nm_NaP_100mM_ph7dot5_Treh7dot5_05uW_77K_circpol_004.img\n",
      "img_mWasabi_30nm_NaP_100mM_ph7dot5_Treh7dot5_05uW_77K_circpol_038.img\n",
      "img_mWasabi_30nm_NaP_100mM_ph7dot5_Treh7dot5_05uW_77K_circpol_012.img\n",
      "img_mWasabi_30nm_NaP_100mM_ph7dot5_Treh7dot5_05uW_77K_circpol_006.img\n",
      "img_mWasabi_30nm_NaP_100mM_ph7dot5_Treh7dot5_05uW_77K_circpol_007.img\n",
      "img_mWasabi_30nm_NaP_100mM_ph7dot5_Treh7dot5_05uW_77K_circpol_013.img\n",
      "img_mWasabi_30nm_NaP_100mM_ph7dot5_Treh7dot5_05uW_77K_circpol_017.img\n",
      "img_mWasabi_30nm_NaP_100mM_ph7dot5_Treh7dot5_05uW_77K_circpol_003.img\n",
      "img_mWasabi_30nm_NaP_100mM_ph7dot5_Treh7dot5_05uW_77K_circpol_002.img\n",
      "img_mWasabi_30nm_NaP_100mM_ph7dot5_Treh7dot5_05uW_77K_circpol_016.img\n",
      "img_mWasabi_30nm_NaP_100mM_ph7dot5_Treh7dot5_05uW_77K_circpol_014.img\n",
      "img_mWasabi_30nm_NaP_100mM_ph7dot5_Treh7dot5_05uW_77K_circpol_028.img\n",
      "img_mWasabi_30nm_NaP_100mM_ph7dot5_Treh7dot5_05uW_77K_circpol_029.img\n",
      "img_mWasabi_30nm_NaP_100mM_ph7dot5_Treh7dot5_05uW_77K_circpol_015.img\n",
      "img_mWasabi_30nm_NaP_100mM_ph7dot5_Treh7dot5_05uW_77K_circpol_001.img\n",
      "img_mWasabi_30nm_NaP_100mM_ph7dot5_Treh7dot5_05uW_77K_circpol_018.img\n",
      "img_mWasabi_30nm_NaP_100mM_ph7dot5_Treh7dot5_05uW_77K_circpol_024.img\n",
      "img_mWasabi_30nm_NaP_100mM_ph7dot5_Treh7dot5_05uW_77K_circpol_030.img\n",
      "img_mWasabi_30nm_NaP_100mM_ph7dot5_Treh7dot5_05uW_77K_circpol_031.img\n",
      "img_mWasabi_30nm_NaP_100mM_ph7dot5_Treh7dot5_05uW_77K_circpol_025.img\n",
      "img_mWasabi_30nm_NaP_100mM_ph7dot5_Treh7dot5_05uW_77K_circpol_019.img\n",
      "img_mWasabi_30nm_NaP_100mM_ph7dot5_Treh7dot5_05uW_77K_circpol_033.img\n",
      "img_mWasabi_30nm_NaP_100mM_ph7dot5_Treh7dot5_05uW_77K_circpol_027.img\n",
      "img_mWasabi_30nm_NaP_100mM_ph7dot5_Treh7dot5_05uW_77K_circpol_026.img\n",
      "img_mWasabi_30nm_NaP_100mM_ph7dot5_Treh7dot5_05uW_77K_circpol_032.img\n",
      "img_mWasabi_30nm_NaP_100mM_ph7dot5_Treh7dot5_05uW_77K_circpol_036.img\n",
      "img_mWasabi_30nm_NaP_100mM_ph7dot5_Treh7dot5_05uW_77K_circpol_022.img\n",
      "img_mWasabi_30nm_NaP_100mM_ph7dot5_Treh7dot5_05uW_77K_circpol_023.img\n",
      "img_mWasabi_30nm_NaP_100mM_ph7dot5_Treh7dot5_05uW_77K_circpol_037.img\n",
      "img_mWasabi_30nm_NaP_100mM_ph7dot5_Treh7dot5_05uW_77K_circpol_021.img\n",
      "img_mWasabi_30nm_NaP_100mM_ph7dot5_Treh7dot5_05uW_77K_circpol_035.img\n",
      "img_mWasabi_30nm_NaP_100mM_ph7dot5_Treh7dot5_05uW_77K_circpol_009.img\n",
      "img_mWasabi_30nm_NaP_100mM_ph7dot5_Treh7dot5_05uW_77K_circpol_008.img\n",
      "img_mWasabi_30nm_NaP_100mM_ph7dot5_Treh7dot5_05uW_77K_circpol_034.img\n",
      "img_mWasabi_30nm_NaP_100mM_ph7dot5_Treh7dot5_05uW_77K_circpol_020.img\n",
      "img_mWasabi_30nm_NaP_100mM_ph7dot5_Treh7dot5_05uW_77K_circpol_047.img\n",
      "img_mWasabi_30nm_NaP_100mM_ph7dot5_Treh7dot5_05uW_77K_circpol_053.img\n",
      "img_mWasabi_30nm_NaP_100mM_ph7dot5_Treh7dot5_05uW_77K_circpol_052.img\n",
      "img_mWasabi_30nm_NaP_100mM_ph7dot5_Treh7dot5_05uW_77K_circpol_046.img\n",
      "img_mWasabi_30nm_NaP_100mM_ph7dot5_Treh7dot5_05uW_77K_circpol_050.img\n",
      "img_mWasabi_30nm_NaP_100mM_ph7dot5_Treh7dot5_05uW_77K_circpol_044.img\n",
      "img_mWasabi_30nm_NaP_100mM_ph7dot5_Treh7dot5_05uW_77K_circpol_045.img\n",
      "img_mWasabi_30nm_NaP_100mM_ph7dot5_Treh7dot5_05uW_77K_circpol_051.img\n",
      "img_mWasabi_30nm_NaP_100mM_ph7dot5_Treh7dot5_05uW_77K_circpol_055.img\n",
      "img_mWasabi_30nm_NaP_100mM_ph7dot5_Treh7dot5_05uW_77K_circpol_041.img\n",
      "img_mWasabi_30nm_NaP_100mM_ph7dot5_Treh7dot5_05uW_77K_circpol_069.img\n",
      "img_mWasabi_30nm_NaP_100mM_ph7dot5_Treh7dot5_05uW_77K_circpol_068.img\n",
      "img_mWasabi_30nm_NaP_100mM_ph7dot5_Treh7dot5_05uW_77K_circpol_040.img\n",
      "img_mWasabi_30nm_NaP_100mM_ph7dot5_Treh7dot5_05uW_77K_circpol_054.img\n",
      "img_mWasabi_30nm_NaP_100mM_ph7dot5_Treh7dot5_05uW_77K_circpol_042.img\n",
      "img_mWasabi_30nm_NaP_100mM_ph7dot5_Treh7dot5_05uW_77K_circpol_056.img\n",
      "img_mWasabi_30nm_NaP_100mM_ph7dot5_Treh7dot5_05uW_77K_circpol_057.img\n",
      "img_mWasabi_30nm_NaP_100mM_ph7dot5_Treh7dot5_05uW_77K_circpol_043.img\n",
      "\n",
      "\n",
      "Files have been moved to the destination directory\n"
     ]
    }
   ],
   "source": [
    "# Sort files in selected directory by file type (to directories 'timestamps' and 'images')\n",
    "#timestamps_path, images_path = report.sort_files(fc.selected_path)\n",
    "timestamps_path, images_path = report.sort_files(selected_path)"
   ]
  },
  {
   "cell_type": "code",
   "execution_count": 7,
   "metadata": {},
   "outputs": [
    {
     "name": "stderr",
     "output_type": "stream",
     "text": [
      "Creating plots: 100%|██████████| 74/74 [00:53<00:00,  1.38it/s]\n",
      "  Creating PDF: 100%|██████████| 73/73 [00:26<00:00,  2.77it/s]\n"
     ]
    },
    {
     "name": "stdout",
     "output_type": "stream",
     "text": [
      "PDF report created.\n"
     ]
    },
    {
     "name": "stderr",
     "output_type": "stream",
     "text": [
      "Creating plots:  54%|█████▍    | 40/74 [00:43<00:36,  1.09s/it]\n"
     ]
    },
    {
     "ename": "error",
     "evalue": "iterative unpacking requires a buffer of a multiple of 65544 bytes",
     "output_type": "error",
     "traceback": [
      "\u001b[0;31m---------------------------------------------------------------------------\u001b[0m",
      "\u001b[0;31merror\u001b[0m                                     Traceback (most recent call last)",
      "\u001b[1;32m/Users/kappel/Documents/Programming/python-projects/s04-data-analysis/notebooks/pdf-report.ipynb Zelle 8\u001b[0m line \u001b[0;36m3\n\u001b[1;32m      <a href='vscode-notebook-cell:/Users/kappel/Documents/Programming/python-projects/s04-data-analysis/notebooks/pdf-report.ipynb#X10sZmlsZQ%3D%3D?line=0'>1</a>\u001b[0m \u001b[39m# Create pdf report from selected path\u001b[39;00m\n\u001b[1;32m      <a href='vscode-notebook-cell:/Users/kappel/Documents/Programming/python-projects/s04-data-analysis/notebooks/pdf-report.ipynb#X10sZmlsZQ%3D%3D?line=1'>2</a>\u001b[0m report\u001b[39m.\u001b[39mcreate(timestamps_path, plot_type\u001b[39m=\u001b[39m\u001b[39m'\u001b[39m\u001b[39mtimetrace\u001b[39m\u001b[39m'\u001b[39m)\n\u001b[0;32m----> <a href='vscode-notebook-cell:/Users/kappel/Documents/Programming/python-projects/s04-data-analysis/notebooks/pdf-report.ipynb#X10sZmlsZQ%3D%3D?line=2'>3</a>\u001b[0m report\u001b[39m.\u001b[39;49mcreate(images_path, plot_type\u001b[39m=\u001b[39;49m\u001b[39m'\u001b[39;49m\u001b[39mimage\u001b[39;49m\u001b[39m'\u001b[39;49m)\n",
      "File \u001b[0;32m~/Library/Python/3.11/lib/python/site-packages/s04utils/modules/visualize/report.py:79\u001b[0m, in \u001b[0;36mcreate\u001b[0;34m(path_to_data_dir, plot_type)\u001b[0m\n\u001b[1;32m     76\u001b[0m         \u001b[39mreturn\u001b[39;00m\n\u001b[1;32m     78\u001b[0m \u001b[39m# Create the plots\u001b[39;00m\n\u001b[0;32m---> 79\u001b[0m create_plots(path_to_data_dir, plot_type\u001b[39m=\u001b[39;49mplot_type)\n\u001b[1;32m     81\u001b[0m \u001b[39m# Create the PDF\u001b[39;00m\n\u001b[1;32m     82\u001b[0m create_pdf(\u001b[39mf\u001b[39m\u001b[39m'\u001b[39m\u001b[39m{\u001b[39;00mdata_dir\u001b[39m}\u001b[39;00m\u001b[39m/\u001b[39m\u001b[39m{\u001b[39;00mPLOT_DIR\u001b[39m}\u001b[39;00m\u001b[39m'\u001b[39m, plot_type\u001b[39m=\u001b[39mplot_type)\n",
      "File \u001b[0;32m~/Library/Python/3.11/lib/python/site-packages/s04utils/modules/visualize/report.py:118\u001b[0m, in \u001b[0;36mcreate_plots\u001b[0;34m(path, plot_type)\u001b[0m\n\u001b[1;32m    114\u001b[0m \u001b[39mfor\u001b[39;00m filename \u001b[39min\u001b[39;00m tqdm(files, desc\u001b[39m=\u001b[39m\u001b[39m'\u001b[39m\u001b[39mCreating plots\u001b[39m\u001b[39m'\u001b[39m):\n\u001b[1;32m    115\u001b[0m     \u001b[39m# Check if the file is a data file\u001b[39;00m\n\u001b[1;32m    116\u001b[0m     \u001b[39mif\u001b[39;00m filename\u001b[39m.\u001b[39mendswith(\u001b[39m\"\u001b[39m\u001b[39m.img\u001b[39m\u001b[39m\"\u001b[39m):\n\u001b[1;32m    117\u001b[0m         \u001b[39m# Create a image object\u001b[39;00m\n\u001b[0;32m--> 118\u001b[0m         image_object \u001b[39m=\u001b[39m image\u001b[39m.\u001b[39;49mload_from_path(\u001b[39mf\u001b[39;49m\u001b[39m'\u001b[39;49m\u001b[39m{\u001b[39;49;00mdata_dir\u001b[39m}\u001b[39;49;00m\u001b[39m/\u001b[39;49m\u001b[39m{\u001b[39;49;00mfilename\u001b[39m}\u001b[39;49;00m\u001b[39m'\u001b[39;49m)\n\u001b[1;32m    119\u001b[0m         \u001b[39m# Save visualization\u001b[39;00m\n\u001b[1;32m    120\u001b[0m         plot\u001b[39m.\u001b[39mimage(image_object, save_path\u001b[39m=\u001b[39m(\u001b[39mf\u001b[39m\u001b[39m'\u001b[39m\u001b[39m{\u001b[39;00mdata_dir\u001b[39m}\u001b[39;00m\u001b[39m/\u001b[39m\u001b[39m{\u001b[39;00mPLOT_DIR\u001b[39m}\u001b[39;00m\u001b[39m'\u001b[39m))\n",
      "File \u001b[0;32m~/Library/Python/3.11/lib/python/site-packages/s04utils/modules/load/image.py:38\u001b[0m, in \u001b[0;36mload_from_path\u001b[0;34m(path)\u001b[0m\n\u001b[1;32m     34\u001b[0m \u001b[39mdef\u001b[39;00m \u001b[39mload_from_path\u001b[39m(path):\n\u001b[1;32m     35\u001b[0m \u001b[39m    \u001b[39m\u001b[39m'''\u001b[39;00m\n\u001b[1;32m     36\u001b[0m \u001b[39m    Loads image data from a binary file and returns an image class object.\u001b[39;00m\n\u001b[1;32m     37\u001b[0m \u001b[39m    '''\u001b[39;00m\n\u001b[0;32m---> 38\u001b[0m     \u001b[39mreturn\u001b[39;00m Image(path)\n",
      "File \u001b[0;32m~/Library/Python/3.11/lib/python/site-packages/s04utils/modules/load/image.py:68\u001b[0m, in \u001b[0;36mImage.__init__\u001b[0;34m(self, path)\u001b[0m\n\u001b[1;32m     66\u001b[0m \u001b[39mself\u001b[39m\u001b[39m.\u001b[39mrange_x \u001b[39m=\u001b[39m \u001b[39mself\u001b[39m\u001b[39m.\u001b[39mget_img_header(\u001b[39m'\u001b[39m\u001b[39mrange_x\u001b[39m\u001b[39m'\u001b[39m)\n\u001b[1;32m     67\u001b[0m \u001b[39mself\u001b[39m\u001b[39m.\u001b[39mrange_y \u001b[39m=\u001b[39m \u001b[39mself\u001b[39m\u001b[39m.\u001b[39mget_img_header(\u001b[39m'\u001b[39m\u001b[39mrange_y\u001b[39m\u001b[39m'\u001b[39m)\n\u001b[0;32m---> 68\u001b[0m \u001b[39mself\u001b[39m\u001b[39m.\u001b[39mdata \u001b[39m=\u001b[39m \u001b[39mself\u001b[39;49m\u001b[39m.\u001b[39;49mget_img_data()\n\u001b[1;32m     69\u001b[0m \u001b[39mself\u001b[39m\u001b[39m.\u001b[39mheader \u001b[39m=\u001b[39m \u001b[39mself\u001b[39m\u001b[39m.\u001b[39mget_img_header()\n",
      "File \u001b[0;32m~/Library/Python/3.11/lib/python/site-packages/s04utils/modules/load/image.py:136\u001b[0m, in \u001b[0;36mImage.get_img_data\u001b[0;34m(self)\u001b[0m\n\u001b[1;32m    134\u001b[0m \u001b[39m# unpack binary data to list, using struct format\u001b[39;00m\n\u001b[1;32m    135\u001b[0m array_struct_format \u001b[39m=\u001b[39m \u001b[39mself\u001b[39m\u001b[39m.\u001b[39mget_struct_format_str()\n\u001b[0;32m--> 136\u001b[0m unpacked_list \u001b[39m=\u001b[39m \u001b[39mlist\u001b[39m(struct\u001b[39m.\u001b[39miter_unpack(array_struct_format, \n\u001b[1;32m    137\u001b[0m                                     \u001b[39mself\u001b[39m\u001b[39m.\u001b[39mbin_content))\n\u001b[1;32m    138\u001b[0m \u001b[39m# convert tuples to lists\u001b[39;00m\n\u001b[1;32m    139\u001b[0m unpacked_list \u001b[39m=\u001b[39m [\u001b[39mlist\u001b[39m(tuple_element) \u001b[39mfor\u001b[39;00m tuple_element \u001b[39min\u001b[39;00m unpacked_list]\n",
      "\u001b[0;31merror\u001b[0m: iterative unpacking requires a buffer of a multiple of 65544 bytes"
     ]
    }
   ],
   "source": [
    "# Create pdf report from selected path\n",
    "report.create(timestamps_path, plot_type='timetrace')\n",
    "report.create(images_path, plot_type='image')"
   ]
  }
 ],
 "metadata": {
  "kernelspec": {
   "display_name": "Python 3",
   "language": "python",
   "name": "python3"
  },
  "language_info": {
   "codemirror_mode": {
    "name": "ipython",
    "version": 3
   },
   "file_extension": ".py",
   "mimetype": "text/x-python",
   "name": "python",
   "nbconvert_exporter": "python",
   "pygments_lexer": "ipython3",
   "version": "3.11.5"
  },
  "orig_nbformat": 4
 },
 "nbformat": 4,
 "nbformat_minor": 2
}
