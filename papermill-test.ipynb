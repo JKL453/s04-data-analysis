{
 "cells": [
  {
   "cell_type": "code",
   "execution_count": 1,
   "metadata": {},
   "outputs": [],
   "source": [
    "# Load modules\n",
    "import os\n",
    "import papermill as pm\n",
    "from logger import logger\n",
    "import scrapbook as sb\n",
    "import pandas as pd\n",
    "from ipyfilechooser import FileChooser "
   ]
  },
  {
   "cell_type": "code",
   "execution_count": 2,
   "metadata": {},
   "outputs": [
    {
     "data": {
      "text/html": [
       "<style>\n",
       ".cell-output-ipywidget-background {\n",
       "   background-color: transparent !important;\n",
       "}\n",
       ".jp-OutputArea-output {\n",
       "   background-color: transparent;\n",
       "};\n"
      ],
      "text/plain": [
       "<IPython.core.display.HTML object>"
      ]
     },
     "metadata": {},
     "output_type": "display_data"
    }
   ],
   "source": [
    "%%html\n",
    "<style>\n",
    ".cell-output-ipywidget-background {\n",
    "   background-color: transparent !important;\n",
    "}\n",
    ".jp-OutputArea-output {\n",
    "   background-color: transparent;\n",
    "};"
   ]
  },
  {
   "cell_type": "markdown",
   "metadata": {},
   "source": [
    "### Choose source directory\n",
    "Select a folder that contains scan images (.img files)."
   ]
  },
  {
   "cell_type": "code",
   "execution_count": 3,
   "metadata": {},
   "outputs": [
    {
     "name": "stdout",
     "output_type": "stream",
     "text": [
      "Select a file to load\n"
     ]
    },
    {
     "data": {
      "application/vnd.jupyter.widget-view+json": {
       "model_id": "4518dd1588d24b35b0487ba337e4fdea",
       "version_major": 2,
       "version_minor": 0
      },
      "text/plain": [
       "FileChooser(path='/Users/kappel/Documents/Programming/python-projects/s04utils', filename='', title='', show_h…"
      ]
     },
     "metadata": {},
     "output_type": "display_data"
    }
   ],
   "source": [
    "# Choose source folder that contains images (.img files)\n",
    "fc = FileChooser()\n",
    "fc.show_only_dirs = True\n",
    "print(\"Select a file to load\")\n",
    "# Wait for the user to make a selection\n",
    "while fc.selected_path == '':\n",
    "    pass\n",
    "display(fc)"
   ]
  },
  {
   "cell_type": "code",
   "execution_count": 4,
   "metadata": {},
   "outputs": [],
   "source": [
    "# Set SOURCE_PATH\n",
    "SOURCE_PATH = \"/Users/kappel/Messungen/Setup04/JaKa/post_hack/23_08_07/77K-16nM-eGFP-vitrified/10uW/images/\"\n",
    "#SOURCE_PATH = fc.selected_path"
   ]
  },
  {
   "cell_type": "markdown",
   "metadata": {},
   "source": [
    "### Choose a notebook to run\n",
    "This notebook will be run on all image files in the chosen source directory.\n",
    "In the following, the notebook is hard coded for now."
   ]
  },
  {
   "cell_type": "code",
   "execution_count": 5,
   "metadata": {},
   "outputs": [],
   "source": [
    "# Set directory of notebook to run\n",
    "SOURCE_NOTEBOOK_PATH = 'spot-analysis.ipynb'"
   ]
  },
  {
   "cell_type": "code",
   "execution_count": 6,
   "metadata": {},
   "outputs": [
    {
     "name": "stdout",
     "output_type": "stream",
     "text": [
      "[22/Aug/2023 09:03:59] INFO - Starting papermill\n",
      "['img_eGFP_16dot5nm_NaP_100mM_ph7dot5_Treh7dot5_10uW_77K_circpol_012.img', 'img_eGFP_16dot5nm_NaP_100mM_ph7dot5_Treh7dot5_10uW_77K_circpol_006.img', 'img_eGFP_16dot5nm_NaP_100mM_ph7dot5_Treh7dot5_10uW_77K_circpol_007.img', 'img_eGFP_16dot5nm_NaP_100mM_ph7dot5_Treh7dot5_10uW_77K_circpol_013.img', 'img_eGFP_16dot5nm_NaP_100mM_ph7dot5_Treh7dot5_10uW_77K_circpol_005.img', 'img_eGFP_16dot5nm_NaP_100mM_ph7dot5_Treh7dot5_10uW_77K_circpol_011.img', 'img_eGFP_16dot5nm_NaP_100mM_ph7dot5_Treh7dot5_10uW_77K_circpol_038.img', 'img_eGFP_16dot5nm_NaP_100mM_ph7dot5_Treh7dot5_10uW_77K_circpol_010.img', 'img_eGFP_16dot5nm_NaP_100mM_ph7dot5_Treh7dot5_10uW_77K_circpol_004.img', 'img_eGFP_16dot5nm_NaP_100mM_ph7dot5_Treh7dot5_10uW_77K_circpol_028.img', 'img_eGFP_16dot5nm_NaP_100mM_ph7dot5_Treh7dot5_10uW_77K_circpol_014.img', 'img_eGFP_16dot5nm_NaP_100mM_ph7dot5_Treh7dot5_10uW_77K_circpol_015.img', 'img_eGFP_16dot5nm_NaP_100mM_ph7dot5_Treh7dot5_10uW_77K_circpol_001.img', 'img_eGFP_16dot5nm_NaP_100mM_ph7dot5_Treh7dot5_10uW_77K_circpol_029.img', 'img_eGFP_16dot5nm_NaP_100mM_ph7dot5_Treh7dot5_10uW_77K_circpol_017.img', 'img_eGFP_16dot5nm_NaP_100mM_ph7dot5_Treh7dot5_10uW_77K_circpol_003.img', 'img_eGFP_16dot5nm_NaP_100mM_ph7dot5_Treh7dot5_10uW_77K_circpol_002.img', 'img_eGFP_16dot5nm_NaP_100mM_ph7dot5_Treh7dot5_10uW_77K_circpol_016.img', 'img_eGFP_16dot5nm_NaP_100mM_ph7dot5_Treh7dot5_10uW_77K_circpol_033.img', 'img_eGFP_16dot5nm_NaP_100mM_ph7dot5_Treh7dot5_10uW_77K_circpol_027.img', 'img_eGFP_16dot5nm_NaP_100mM_ph7dot5_Treh7dot5_10uW_77K_circpol_026.img', 'img_eGFP_16dot5nm_NaP_100mM_ph7dot5_Treh7dot5_10uW_77K_circpol_032.img', 'img_eGFP_16dot5nm_NaP_100mM_ph7dot5_Treh7dot5_10uW_77K_circpol_024.img', 'img_eGFP_16dot5nm_NaP_100mM_ph7dot5_Treh7dot5_10uW_77K_circpol_030.img', 'img_eGFP_16dot5nm_NaP_100mM_ph7dot5_Treh7dot5_10uW_77K_circpol_018.img', 'img_eGFP_16dot5nm_NaP_100mM_ph7dot5_Treh7dot5_10uW_77K_circpol_019.img', 'img_eGFP_16dot5nm_NaP_100mM_ph7dot5_Treh7dot5_10uW_77K_circpol_031.img', 'img_eGFP_16dot5nm_NaP_100mM_ph7dot5_Treh7dot5_10uW_77K_circpol_025.img', 'img_eGFP_16dot5nm_NaP_100mM_ph7dot5_Treh7dot5_10uW_77K_circpol_009.img', 'img_eGFP_16dot5nm_NaP_100mM_ph7dot5_Treh7dot5_10uW_77K_circpol_021.img', 'img_eGFP_16dot5nm_NaP_100mM_ph7dot5_Treh7dot5_10uW_77K_circpol_035.img', 'img_eGFP_16dot5nm_NaP_100mM_ph7dot5_Treh7dot5_10uW_77K_circpol_034.img', 'img_eGFP_16dot5nm_NaP_100mM_ph7dot5_Treh7dot5_10uW_77K_circpol_020.img', 'img_eGFP_16dot5nm_NaP_100mM_ph7dot5_Treh7dot5_10uW_77K_circpol_008.img', 'img_eGFP_16dot5nm_NaP_100mM_ph7dot5_Treh7dot5_10uW_77K_circpol_036.img', 'img_eGFP_16dot5nm_NaP_100mM_ph7dot5_Treh7dot5_10uW_77K_circpol_022.img', 'img_eGFP_16dot5nm_NaP_100mM_ph7dot5_Treh7dot5_10uW_77K_circpol_023.img', 'img_eGFP_16dot5nm_NaP_100mM_ph7dot5_Treh7dot5_10uW_77K_circpol_037.img']\n"
     ]
    },
    {
     "data": {
      "text/plain": [
       "'# Iterate over files and run papermill\\nfor file in files:\\n    logger.info(\"Running papermill for {}\".format(file))\\n    pm.execute_notebook(\\n        input_path = SOURCE_NOTEBOOK_PATH,\\n        output_path = \"../s04utils/papermill-test-nbs/papermill-test-{}.ipynb\".format(file),\\n        parameters=dict(\\n            # join SOURCE_PATH and file name\\n            SOURCE_IMAGE_PATH = os.path.join(SOURCE_PATH, file)\\n        )\\n    )'"
      ]
     },
     "execution_count": 6,
     "metadata": {},
     "output_type": "execute_result"
    }
   ],
   "source": [
    "# Logging\n",
    "logger.info(\"Starting papermill\")\n",
    "\n",
    "# Get list of files with extension .img from SOURCE_PATH\n",
    "files = [file for file in os.listdir(SOURCE_PATH) if file.endswith(\".img\")]\n",
    "print(files)\n",
    "\n",
    "'''# Iterate over files and run papermill\n",
    "for file in files:\n",
    "    logger.info(\"Running papermill for {}\".format(file))\n",
    "    pm.execute_notebook(\n",
    "        input_path = SOURCE_NOTEBOOK_PATH,\n",
    "        output_path = \"../s04utils/papermill-test-nbs/papermill-test-{}.ipynb\".format(file),\n",
    "        parameters=dict(\n",
    "            # join SOURCE_PATH and file name\n",
    "            SOURCE_IMAGE_PATH = os.path.join(SOURCE_PATH, file)\n",
    "        )\n",
    "    )'''"
   ]
  },
  {
   "cell_type": "code",
   "execution_count": 7,
   "metadata": {},
   "outputs": [
    {
     "name": "stdout",
     "output_type": "stream",
     "text": [
      "0\n"
     ]
    }
   ],
   "source": [
    "# Read scraps of notebooks generated by papermill\n",
    "\n",
    "OUTPUT_PATH = '../s04utils/papermill-test-nbs/'\n",
    "\n",
    "# Get list of files with extension .ipynb from OUTPUT_PATH and join with sourcepath\n",
    "notebooks = [os.path.join(OUTPUT_PATH, file) for file in os.listdir(OUTPUT_PATH) if file.endswith(\".ipynb\")]\n",
    "print(len(notebooks))\n",
    "\n",
    "\n",
    "blob_dataframe = pd.DataFrame()\n",
    "\n",
    "for notebook in notebooks:\n",
    "    print(notebook)\n",
    "    nb = sb.read_notebook(notebook)\n",
    "    if not nb.scrap_dataframe.empty:\n",
    "        nb_dataframe = nb.scrap_dataframe.loc[nb.scrap_dataframe['name'] == 'blob_dataframe', 'data'].iloc[0]\n",
    "        blob_dataframe = pd.concat([blob_dataframe, nb_dataframe], ignore_index=True)\n",
    "        blob_dataframe = pd.concat([blob_dataframe, nb_dataframe], ignore_index=True)\n",
    "\n",
    "\n"
   ]
  },
  {
   "cell_type": "code",
   "execution_count": 8,
   "metadata": {},
   "outputs": [
    {
     "data": {
      "text/html": [
       "<div>\n",
       "<style scoped>\n",
       "    .dataframe tbody tr th:only-of-type {\n",
       "        vertical-align: middle;\n",
       "    }\n",
       "\n",
       "    .dataframe tbody tr th {\n",
       "        vertical-align: top;\n",
       "    }\n",
       "\n",
       "    .dataframe thead th {\n",
       "        text-align: right;\n",
       "    }\n",
       "</style>\n",
       "<table border=\"1\" class=\"dataframe\">\n",
       "  <thead>\n",
       "    <tr style=\"text-align: right;\">\n",
       "      <th></th>\n",
       "    </tr>\n",
       "  </thead>\n",
       "  <tbody>\n",
       "  </tbody>\n",
       "</table>\n",
       "</div>"
      ],
      "text/plain": [
       "Empty DataFrame\n",
       "Columns: []\n",
       "Index: []"
      ]
     },
     "execution_count": 8,
     "metadata": {},
     "output_type": "execute_result"
    }
   ],
   "source": [
    "blob_dataframe.head()"
   ]
  },
  {
   "cell_type": "code",
   "execution_count": 9,
   "metadata": {},
   "outputs": [
    {
     "name": "stdout",
     "output_type": "stream",
     "text": [
      "RangeIndex(start=0, stop=0, step=1)\n"
     ]
    }
   ],
   "source": [
    "print(blob_dataframe.columns)\n"
   ]
  },
  {
   "cell_type": "code",
   "execution_count": 10,
   "metadata": {},
   "outputs": [
    {
     "ename": "KeyError",
     "evalue": "\"None of [Index(['Max. intensity'], dtype='object')] are in the [columns]\"",
     "output_type": "error",
     "traceback": [
      "\u001b[0;31m---------------------------------------------------------------------------\u001b[0m",
      "\u001b[0;31mKeyError\u001b[0m                                  Traceback (most recent call last)",
      "\u001b[1;32m/Users/kappel/Documents/Programming/python-projects/s04utils/papermill-test.ipynb Zelle 12\u001b[0m line \u001b[0;36m1\n\u001b[0;32m----> <a href='vscode-notebook-cell:/Users/kappel/Documents/Programming/python-projects/s04utils/papermill-test.ipynb#X14sZmlsZQ%3D%3D?line=0'>1</a>\u001b[0m blob_dataframe\u001b[39m.\u001b[39;49mhist(column\u001b[39m=\u001b[39;49m\u001b[39m'\u001b[39;49m\u001b[39mMax. intensity\u001b[39;49m\u001b[39m'\u001b[39;49m, bins\u001b[39m=\u001b[39;49m\u001b[39m200\u001b[39;49m, \u001b[39mrange\u001b[39;49m\u001b[39m=\u001b[39;49m(\u001b[39m0\u001b[39;49m, \u001b[39m200\u001b[39;49m))\n\u001b[1;32m      <a href='vscode-notebook-cell:/Users/kappel/Documents/Programming/python-projects/s04utils/papermill-test.ipynb#X14sZmlsZQ%3D%3D?line=1'>2</a>\u001b[0m counts \u001b[39m=\u001b[39m blob_dataframe[\u001b[39m'\u001b[39m\u001b[39mMax. intensity\u001b[39m\u001b[39m'\u001b[39m]\u001b[39m.\u001b[39mvalue_counts()\n",
      "File \u001b[0;32m/opt/homebrew/lib/python3.11/site-packages/pandas/plotting/_core.py:223\u001b[0m, in \u001b[0;36mhist_frame\u001b[0;34m(data, column, by, grid, xlabelsize, xrot, ylabelsize, yrot, ax, sharex, sharey, figsize, layout, bins, backend, legend, **kwargs)\u001b[0m\n\u001b[1;32m    134\u001b[0m \u001b[39m\u001b[39m\u001b[39m\"\"\"\u001b[39;00m\n\u001b[1;32m    135\u001b[0m \u001b[39mMake a histogram of the DataFrame's columns.\u001b[39;00m\n\u001b[1;32m    136\u001b[0m \n\u001b[0;32m   (...)\u001b[0m\n\u001b[1;32m    220\u001b[0m \u001b[39m    >>> hist = df.hist(bins=3)\u001b[39;00m\n\u001b[1;32m    221\u001b[0m \u001b[39m\"\"\"\u001b[39;00m\n\u001b[1;32m    222\u001b[0m plot_backend \u001b[39m=\u001b[39m _get_plot_backend(backend)\n\u001b[0;32m--> 223\u001b[0m \u001b[39mreturn\u001b[39;00m plot_backend\u001b[39m.\u001b[39;49mhist_frame(\n\u001b[1;32m    224\u001b[0m     data,\n\u001b[1;32m    225\u001b[0m     column\u001b[39m=\u001b[39;49mcolumn,\n\u001b[1;32m    226\u001b[0m     by\u001b[39m=\u001b[39;49mby,\n\u001b[1;32m    227\u001b[0m     grid\u001b[39m=\u001b[39;49mgrid,\n\u001b[1;32m    228\u001b[0m     xlabelsize\u001b[39m=\u001b[39;49mxlabelsize,\n\u001b[1;32m    229\u001b[0m     xrot\u001b[39m=\u001b[39;49mxrot,\n\u001b[1;32m    230\u001b[0m     ylabelsize\u001b[39m=\u001b[39;49mylabelsize,\n\u001b[1;32m    231\u001b[0m     yrot\u001b[39m=\u001b[39;49myrot,\n\u001b[1;32m    232\u001b[0m     ax\u001b[39m=\u001b[39;49max,\n\u001b[1;32m    233\u001b[0m     sharex\u001b[39m=\u001b[39;49msharex,\n\u001b[1;32m    234\u001b[0m     sharey\u001b[39m=\u001b[39;49msharey,\n\u001b[1;32m    235\u001b[0m     figsize\u001b[39m=\u001b[39;49mfigsize,\n\u001b[1;32m    236\u001b[0m     layout\u001b[39m=\u001b[39;49mlayout,\n\u001b[1;32m    237\u001b[0m     legend\u001b[39m=\u001b[39;49mlegend,\n\u001b[1;32m    238\u001b[0m     bins\u001b[39m=\u001b[39;49mbins,\n\u001b[1;32m    239\u001b[0m     \u001b[39m*\u001b[39;49m\u001b[39m*\u001b[39;49mkwargs,\n\u001b[1;32m    240\u001b[0m )\n",
      "File \u001b[0;32m/opt/homebrew/lib/python3.11/site-packages/pandas/plotting/_matplotlib/hist.py:506\u001b[0m, in \u001b[0;36mhist_frame\u001b[0;34m(data, column, by, grid, xlabelsize, xrot, ylabelsize, yrot, ax, sharex, sharey, figsize, layout, bins, legend, **kwds)\u001b[0m\n\u001b[1;32m    504\u001b[0m     \u001b[39mif\u001b[39;00m \u001b[39mnot\u001b[39;00m \u001b[39misinstance\u001b[39m(column, (\u001b[39mlist\u001b[39m, np\u001b[39m.\u001b[39mndarray, ABCIndex)):\n\u001b[1;32m    505\u001b[0m         column \u001b[39m=\u001b[39m [column]\n\u001b[0;32m--> 506\u001b[0m     data \u001b[39m=\u001b[39m data[column]\n\u001b[1;32m    507\u001b[0m \u001b[39m# GH32590\u001b[39;00m\n\u001b[1;32m    508\u001b[0m data \u001b[39m=\u001b[39m data\u001b[39m.\u001b[39mselect_dtypes(\n\u001b[1;32m    509\u001b[0m     include\u001b[39m=\u001b[39m(np\u001b[39m.\u001b[39mnumber, \u001b[39m\"\u001b[39m\u001b[39mdatetime64\u001b[39m\u001b[39m\"\u001b[39m, \u001b[39m\"\u001b[39m\u001b[39mdatetimetz\u001b[39m\u001b[39m\"\u001b[39m), exclude\u001b[39m=\u001b[39m\u001b[39m\"\u001b[39m\u001b[39mtimedelta\u001b[39m\u001b[39m\"\u001b[39m\n\u001b[1;32m    510\u001b[0m )\n",
      "File \u001b[0;32m/opt/homebrew/lib/python3.11/site-packages/pandas/core/frame.py:3767\u001b[0m, in \u001b[0;36mDataFrame.__getitem__\u001b[0;34m(self, key)\u001b[0m\n\u001b[1;32m   3765\u001b[0m     \u001b[39mif\u001b[39;00m is_iterator(key):\n\u001b[1;32m   3766\u001b[0m         key \u001b[39m=\u001b[39m \u001b[39mlist\u001b[39m(key)\n\u001b[0;32m-> 3767\u001b[0m     indexer \u001b[39m=\u001b[39m \u001b[39mself\u001b[39;49m\u001b[39m.\u001b[39;49mcolumns\u001b[39m.\u001b[39;49m_get_indexer_strict(key, \u001b[39m\"\u001b[39;49m\u001b[39mcolumns\u001b[39;49m\u001b[39m\"\u001b[39;49m)[\u001b[39m1\u001b[39m]\n\u001b[1;32m   3769\u001b[0m \u001b[39m# take() does not accept boolean indexers\u001b[39;00m\n\u001b[1;32m   3770\u001b[0m \u001b[39mif\u001b[39;00m \u001b[39mgetattr\u001b[39m(indexer, \u001b[39m\"\u001b[39m\u001b[39mdtype\u001b[39m\u001b[39m\"\u001b[39m, \u001b[39mNone\u001b[39;00m) \u001b[39m==\u001b[39m \u001b[39mbool\u001b[39m:\n",
      "File \u001b[0;32m/opt/homebrew/lib/python3.11/site-packages/pandas/core/indexes/base.py:5876\u001b[0m, in \u001b[0;36mIndex._get_indexer_strict\u001b[0;34m(self, key, axis_name)\u001b[0m\n\u001b[1;32m   5873\u001b[0m \u001b[39melse\u001b[39;00m:\n\u001b[1;32m   5874\u001b[0m     keyarr, indexer, new_indexer \u001b[39m=\u001b[39m \u001b[39mself\u001b[39m\u001b[39m.\u001b[39m_reindex_non_unique(keyarr)\n\u001b[0;32m-> 5876\u001b[0m \u001b[39mself\u001b[39;49m\u001b[39m.\u001b[39;49m_raise_if_missing(keyarr, indexer, axis_name)\n\u001b[1;32m   5878\u001b[0m keyarr \u001b[39m=\u001b[39m \u001b[39mself\u001b[39m\u001b[39m.\u001b[39mtake(indexer)\n\u001b[1;32m   5879\u001b[0m \u001b[39mif\u001b[39;00m \u001b[39misinstance\u001b[39m(key, Index):\n\u001b[1;32m   5880\u001b[0m     \u001b[39m# GH 42790 - Preserve name from an Index\u001b[39;00m\n",
      "File \u001b[0;32m/opt/homebrew/lib/python3.11/site-packages/pandas/core/indexes/base.py:5935\u001b[0m, in \u001b[0;36mIndex._raise_if_missing\u001b[0;34m(self, key, indexer, axis_name)\u001b[0m\n\u001b[1;32m   5933\u001b[0m     \u001b[39mif\u001b[39;00m use_interval_msg:\n\u001b[1;32m   5934\u001b[0m         key \u001b[39m=\u001b[39m \u001b[39mlist\u001b[39m(key)\n\u001b[0;32m-> 5935\u001b[0m     \u001b[39mraise\u001b[39;00m \u001b[39mKeyError\u001b[39;00m(\u001b[39mf\u001b[39m\u001b[39m\"\u001b[39m\u001b[39mNone of [\u001b[39m\u001b[39m{\u001b[39;00mkey\u001b[39m}\u001b[39;00m\u001b[39m] are in the [\u001b[39m\u001b[39m{\u001b[39;00maxis_name\u001b[39m}\u001b[39;00m\u001b[39m]\u001b[39m\u001b[39m\"\u001b[39m)\n\u001b[1;32m   5937\u001b[0m not_found \u001b[39m=\u001b[39m \u001b[39mlist\u001b[39m(ensure_index(key)[missing_mask\u001b[39m.\u001b[39mnonzero()[\u001b[39m0\u001b[39m]]\u001b[39m.\u001b[39munique())\n\u001b[1;32m   5938\u001b[0m \u001b[39mraise\u001b[39;00m \u001b[39mKeyError\u001b[39;00m(\u001b[39mf\u001b[39m\u001b[39m\"\u001b[39m\u001b[39m{\u001b[39;00mnot_found\u001b[39m}\u001b[39;00m\u001b[39m not in index\u001b[39m\u001b[39m\"\u001b[39m)\n",
      "\u001b[0;31mKeyError\u001b[0m: \"None of [Index(['Max. intensity'], dtype='object')] are in the [columns]\""
     ]
    }
   ],
   "source": [
    "blob_dataframe.hist(column='Max. intensity', bins=200, range=(0, 200))\n",
    "counts = blob_dataframe['Max. intensity'].value_counts()"
   ]
  },
  {
   "cell_type": "code",
   "execution_count": null,
   "metadata": {},
   "outputs": [
    {
     "data": {
      "text/plain": [
       "array([[<Axes: title={'center': 'Avg. intensity'}>]], dtype=object)"
      ]
     },
     "execution_count": 11,
     "metadata": {},
     "output_type": "execute_result"
    },
    {
     "data": {
      "image/png": "[encoded data removed]",
      "text/plain": [
       "<Figure size 640x480 with 1 Axes>"
      ]
     },
     "metadata": {},
     "output_type": "display_data"
    }
   ],
   "source": [
    "blob_dataframe.hist(column='Avg. intensity', bins=200, range=(0, 200))"
   ]
  },
  {
   "cell_type": "code",
   "execution_count": null,
   "metadata": {},
   "outputs": [
    {
     "data": {
      "text/plain": [
       "<Axes: ylabel='Frequency'>"
      ]
     },
     "execution_count": 12,
     "metadata": {},
     "output_type": "execute_result"
    },
    {
     "data": {
      "image/png": "[encoded data removed]",
      "text/plain": [
       "<Figure size 1000x500 with 1 Axes>"
      ]
     },
     "metadata": {},
     "output_type": "display_data"
    }
   ],
   "source": [
    "blob_dataframe[['Avg. intensity', 'Max. intensity']].plot(kind='hist', bins=200, alpha=0.5, figsize=(10, 5), range=(0, 200))"
   ]
  },
  {
   "cell_type": "code",
   "execution_count": null,
   "metadata": {},
   "outputs": [
    {
     "ename": "NameError",
     "evalue": "name 'blob_dataframe' is not defined",
     "output_type": "error",
     "traceback": [
      "\u001b[0;31m---------------------------------------------------------------------------\u001b[0m",
      "\u001b[0;31mNameError\u001b[0m                                 Traceback (most recent call last)",
      "\u001b[1;32m/Users/kappel/Documents/Programming/python-projects/s04utils/papermill-test.ipynb Zelle 15\u001b[0m line \u001b[0;36m5\n\u001b[1;32m      <a href='vscode-notebook-cell:/Users/kappel/Documents/Programming/python-projects/s04utils/papermill-test.ipynb#X20sZmlsZQ%3D%3D?line=1'>2</a>\u001b[0m \u001b[39mimport\u001b[39;00m \u001b[39mseaborn\u001b[39;00m \u001b[39mas\u001b[39;00m \u001b[39msns\u001b[39;00m\n\u001b[1;32m      <a href='vscode-notebook-cell:/Users/kappel/Documents/Programming/python-projects/s04utils/papermill-test.ipynb#X20sZmlsZQ%3D%3D?line=2'>3</a>\u001b[0m \u001b[39mimport\u001b[39;00m \u001b[39mmatplotlib\u001b[39;00m\u001b[39m.\u001b[39;00m\u001b[39mpyplot\u001b[39;00m \u001b[39mas\u001b[39;00m \u001b[39mplt\u001b[39;00m\n\u001b[0;32m----> <a href='vscode-notebook-cell:/Users/kappel/Documents/Programming/python-projects/s04utils/papermill-test.ipynb#X20sZmlsZQ%3D%3D?line=4'>5</a>\u001b[0m r_max_intensities \u001b[39m=\u001b[39m blob_dataframe[\u001b[39m'\u001b[39m\u001b[39mMax. intensity\u001b[39m\u001b[39m'\u001b[39m]\u001b[39m.\u001b[39mvalues\u001b[39m.\u001b[39mtolist()\n\u001b[1;32m      <a href='vscode-notebook-cell:/Users/kappel/Documents/Programming/python-projects/s04utils/papermill-test.ipynb#X20sZmlsZQ%3D%3D?line=5'>6</a>\u001b[0m r_avg_intensities \u001b[39m=\u001b[39m blob_dataframe[\u001b[39m'\u001b[39m\u001b[39mAvg. intensity\u001b[39m\u001b[39m'\u001b[39m]\u001b[39m.\u001b[39mvalues\u001b[39m.\u001b[39mtolist()\n\u001b[1;32m      <a href='vscode-notebook-cell:/Users/kappel/Documents/Programming/python-projects/s04utils/papermill-test.ipynb#X20sZmlsZQ%3D%3D?line=7'>8</a>\u001b[0m \u001b[39mif\u001b[39;00m np\u001b[39m.\u001b[39mmin(r_avg_intensities) \u001b[39m>\u001b[39m\u001b[39m=\u001b[39m np\u001b[39m.\u001b[39mmin(r_max_intensities):\n",
      "\u001b[0;31mNameError\u001b[0m: name 'blob_dataframe' is not defined"
     ]
    }
   ],
   "source": [
    "import numpy as np\n",
    "import seaborn as sns\n",
    "import matplotlib.pyplot as plt\n",
    "\n",
    "r_max_intensities = blob_dataframe['Max. intensity'].values.tolist()\n",
    "r_avg_intensities = blob_dataframe['Avg. intensity'].values.tolist()\n",
    "\n",
    "if np.min(r_avg_intensities) >= np.min(r_max_intensities):\n",
    "    max_bin = np.max(r_avg_intensities)\n",
    "else:\n",
    "    max_bin = np.max(r_max_intensities)\n",
    "\n",
    "print(sorted(r_max_intensities))\n",
    "print(type(r_max_intensities))\n",
    "\n",
    "min_val = np.min(r_max_intensities)\n",
    "max_val = np.max(r_max_intensities)\n",
    "\n",
    "val_width = max_val - min_val\n",
    "n_bins = 200\n",
    "bin_width = val_width/n_bins\n",
    "\n",
    "# Create barplot for histogram of average intensities\n",
    "sns.set_style('white')\n",
    "sns.displot(data=blob_dataframe, \n",
    "            bins=n_bins, \n",
    "            binrange=(0, 200), \n",
    "            kind='hist', \n",
    "            kde=True, \n",
    "            edgecolor='white', \n",
    "            height=5, \n",
    "            aspect=2)\n",
    "\n",
    "\n",
    "# Set axis\n",
    "plt.xlabel('photons per ms')\n",
    "plt.ylabel('number of Molecules')\n",
    "plt.tick_params(axis='both', which='both', bottom=True, left=True)\n",
    "#plt.xticks(np.arange(min_val-bin_width/2, max_val+bin_width/2, bin_width))\n",
    "plt.xlim(0, max_bin+20)\n",
    "plt.show()"
   ]
  },
  {
   "cell_type": "code",
   "execution_count": null,
   "metadata": {},
   "outputs": [
    {
     "name": "stdout",
     "output_type": "stream",
     "text": [
      "[19/Aug/2023 21:37:16] INFO - Using categorical units to plot a list of strings that are all parsable as floats or dates. If these strings should be plotted as numbers, cast to the appropriate data type before plotting.\n",
      "[19/Aug/2023 21:37:16] INFO - Using categorical units to plot a list of strings that are all parsable as floats or dates. If these strings should be plotted as numbers, cast to the appropriate data type before plotting.\n"
     ]
    },
    {
     "data": {
      "image/png": "[encoded data removed]",
      "text/plain": [
       "<Figure size 900x400 with 2 Axes>"
      ]
     },
     "metadata": {},
     "output_type": "display_data"
    }
   ],
   "source": [
    "import matplotlib.patheffects as path_effects\n",
    "\n",
    "def add_median_labels(ax, fmt='.1f'):\n",
    "    lines = ax.get_lines()\n",
    "    boxes = [c for c in ax.get_children() if type(c).__name__ == 'PathPatch']\n",
    "    lines_per_box = int(len(lines) / len(boxes))\n",
    "    for median in lines[4:len(lines):lines_per_box]:\n",
    "        x, y = (data.mean() for data in median.get_data())\n",
    "        # choose value depending on horizontal or vertical plot orientation\n",
    "        value = x if (median.get_xdata()[1] - median.get_xdata()[0]) == 0 else y\n",
    "        text = ax.text(x, y, f'{value:{fmt}}', ha='center', va='center',\n",
    "                       fontweight='bold', color='white')\n",
    "        # create median-colored border around white text for contrast\n",
    "        text.set_path_effects([\n",
    "            path_effects.Stroke(linewidth=0.5, foreground=median.get_color()),\n",
    "            path_effects.Normal(),\n",
    "        ])\n",
    "\n",
    "\n",
    "data = [r_avg_intensities, r_max_intensities]\n",
    "\n",
    "\n",
    "# Create a figure with two subplots\n",
    "fig, axes = plt.subplots(1, 2, figsize=(9, 4), sharey=True)\n",
    "\n",
    "# Create the boxplot in the first subplot\n",
    "sns.set_style('darkgrid')\n",
    "sns.boxplot(ax = axes[0], data=data, width=0.2, fliersize=2)\n",
    "\n",
    "# Create the stripplot in the second subplot\n",
    "ax = sns.stripplot(ax = axes[1], size = 3, alpha = 0.3, data = data, jitter=True)\n",
    "\n",
    "# Set axis\n",
    "plt.xlabel('PMI-PMMA')\n",
    "plt.ylabel('avg. Intensity (photons per ms)')\n",
    "plt.ylim(0, np.max(r_max_intensities)+10)\n",
    "add_median_labels(axes[0])\n",
    "plt.show()\n"
   ]
  },
  {
   "cell_type": "code",
   "execution_count": null,
   "metadata": {},
   "outputs": [],
   "source": []
  }
 ],
 "metadata": {
  "kernelspec": {
   "display_name": "Python 3",
   "language": "python",
   "name": "python3"
  },
  "language_info": {
   "codemirror_mode": {
    "name": "ipython",
    "version": 3
   },
   "file_extension": ".py",
   "mimetype": "text/x-python",
   "name": "python",
   "nbconvert_exporter": "python",
   "pygments_lexer": "ipython3",
   "version": "3.11.4"
  },
  "orig_nbformat": 4
 },
 "nbformat": 4,
 "nbformat_minor": 2
}
